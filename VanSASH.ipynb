{
 "cells": [
  {
   "cell_type": "code",
   "execution_count": 16,
   "metadata": {
    "collapsed": true
   },
   "outputs": [],
   "source": [
    "import numpy as np\n",
    "import matplotlib.pyplot as plt\n",
    "import math \n",
    "import pandas as pd"
   ]
  },
  {
   "cell_type": "code",
   "execution_count": 17,
   "metadata": {
    "collapsed": true
   },
   "outputs": [],
   "source": [
    "csv_file = \"VASASHData.csv\""
   ]
  },
  {
   "cell_type": "code",
   "execution_count": 18,
   "metadata": {
    "collapsed": true
   },
   "outputs": [],
   "source": [
    "data = pd.read_csv(csv_file,encoding='latin1')"
   ]
  },
  {
   "cell_type": "code",
   "execution_count": 2,
   "metadata": {},
   "outputs": [],
   "source": [
    "def allTargets(player_name,action):\n",
    "    player_frame = frame[data['player']==player_name]\n",
    "    pass_targets = dict()\n",
    "    pass_count = 0\n",
    "    for target in player_frame[player_frame['Action']==action]['Result']:\n",
    "        if target in pass_targets:\n",
    "            pass_targets[target] += 1\n",
    "            pass_count += 1\n",
    "        else:\n",
    "            pass_targets[target] = 1\n",
    "            pass_count += 1\n",
    "    return pass_targets, pass_count\n"
   ]
  },
  {
   "cell_type": "code",
   "execution_count": 25,
   "metadata": {
    "collapsed": true
   },
   "outputs": [],
   "source": [
    "def actionFreq(player,action):\n",
    "    action_dict,tot_cnt = allTargets(player,action)\n",
    "    freq_dict = dict()\n",
    "    for player in action_dict:\n",
    "        freq_dict[player] = round(float(action_dict[player])/tot_cnt,5)\n",
    "    return freq_dict"
   ]
  },
  {
   "cell_type": "code",
   "execution_count": 27,
   "metadata": {
    "collapsed": true,
    "scrolled": false
   },
   "outputs": [],
   "source": [
    "def dict2List(dict_):\n",
    "    L = []\n",
    "    for key in dict_:\n",
    "        if not(key == 'NotCompleted'):\n",
    "            L.append([dict_[key],key])\n",
    "    L.sort()\n",
    "    L_key = []\n",
    "    L_ele = []\n",
    "    for pair in L:\n",
    "        L_key.append(pair[1])\n",
    "        L_ele.append(pair[0])\n",
    "    return L_key,L_ele"
   ]
  },
  {
   "cell_type": "code",
   "execution_count": 31,
   "metadata": {
    "collapsed": true,
    "scrolled": false
   },
   "outputs": [],
   "source": [
    "def playerChemistry(player_A, player_B, dict_A, dict_B):\n",
    "    chem = 0\n",
    "    if player_A in dict_B:\n",
    "        chem = chem + dict_B[player_A]\n",
    "    if player_B in dict_A:\n",
    "        chem = chem + dict_A[player_B]\n",
    "    return (chem/2)"
   ]
  },
  {
   "cell_type": "code",
   "execution_count": 34,
   "metadata": {
    "collapsed": true
   },
   "outputs": [],
   "source": [
    "def getPlayers(team):\n",
    "    global player_nums\n",
    "    players = dict()\n",
    "    for p in frame[data['team']==team].player:\n",
    "        if p in players:\n",
    "            players[p] += 1\n",
    "        else:\n",
    "            players[p] = 1\n",
    "    return players"
   ]
  },
  {
   "cell_type": "code",
   "execution_count": 36,
   "metadata": {
    "collapsed": true
   },
   "outputs": [],
   "source": [
    "def teamChemistry(team):\n",
    "    players = getPlayers(team)\n",
    "    chem_dict = dict()\n",
    "    for player_A in players:\n",
    "        dict_A = actionFreq(player_A,'pass')\n",
    "        for player_B in players:\n",
    "            if not(player_A == player_B):\n",
    "                dict_B = actionFreq(player_B,'pass')\n",
    "                chem = playerChemistry(player_A,player_B,dict_A,dict_B)\n",
    "                if not((player_A,player_B) in chem_dict) and not((player_B,player_A) in chem_dict):\n",
    "                    chem_dict[(player_A,player_B)] = [chem]\n",
    "                elif ((player_A,player_B) in chem_dict) and not((player_B,player_A) in chem_dict):\n",
    "                    chem_dict[(player_A,player_B)].append(chem)\n",
    "    return chem_dict"
   ]
  },
  {
   "cell_type": "code",
   "execution_count": 37,
   "metadata": {
    "collapsed": true
   },
   "outputs": [],
   "source": [
    "def maxTeamChemistry(team):\n",
    "    players = getPlayers(team)\n",
    "    max_chem = 0\n",
    "    max_A = []\n",
    "    max_B = []\n",
    "    for player_A in players:\n",
    "        dict_A = actionFreq(player_A,'pass')\n",
    "        for player_B in players:\n",
    "            if not(player_A == player_B):\n",
    "                dict_B = actionFreq(player_B,'pass')\n",
    "                chem = playerChemistry(player_A,player_B,dict_A,dict_B)\n",
    "                if chem > max_chem:\n",
    "                    max_chem = chem\n",
    "                    max_A = [player_A]\n",
    "                    max_B = [player_B]\n",
    "                elif chem == max_chem:\n",
    "                    if not(player_A in max_B) or not(player_B in max_A):\n",
    "                        max_A.append(player_A)\n",
    "                        max_B.append(player_B)\n",
    "    return(max_chem,max_A,max_B)"
   ]
  },
  {
   "cell_type": "code",
   "execution_count": null,
   "metadata": {},
   "outputs": [],
   "source": [
    "def getStarters(team):\n",
    "    players = getPlayers(team)\n",
    "    n = 0\n",
    "    starters = []\n",
    "    for player in players:\n",
    "        if n <= 11:\n",
    "            starters.append([players[player],player])\n",
    "            n += 1\n",
    "        else:\n",
    "            if players[player] > starters[0][0]:\n",
    "                starters[0] = [players[player],player]\n",
    "        starters.sort()\n",
    "    return starters"
   ]
  },
  {
   "cell_type": "code",
   "execution_count": 39,
   "metadata": {
    "collapsed": true
   },
   "outputs": [],
   "source": [
    "def average_position(match, player):\n",
    "    player_locX = data[data['Match']==match].groupby(['player'])['LocX'].apply(list)[0]\n",
    "    player_locY = data[data['Match']==match].groupby(['player'])['LocY'].apply(list)[1]\n",
    "    return np.average(player_locX[player]),np.average(player_locY[player])"
   ]
  },
  {
   "cell_type": "code",
   "execution_count": 58,
   "metadata": {
    "collapsed": true,
    "scrolled": false
   },
   "outputs": [],
   "source": [
    "def teamChemistryPlot(team,colours,match):\n",
    "    global player_nums\n",
    "    team_chem = teamChemistry(team)\n",
    "    s_temp = getStarters(team)\n",
    "    starters = dict()\n",
    "    for starter in s_temp:\n",
    "        starters[starter[1]] = starter[0]\n",
    "    img = plt.imread(\"soccer_pitch.jpg\")\n",
    "    fig, ax = plt.subplots(figsize=(100,100))\n",
    "    ax.imshow(img,extent=[0,100,0,100])\n",
    "    plt.axis('off')\n",
    "    player_loc = dict()\n",
    "    for player in starters:\n",
    "        print(player)\n",
    "        y = data[data['team']==team][data['player']==player].mean()['LocX'].mean()\n",
    "        x = data[data['team']==team][data['player']==player].mean()['LocY'].mean()\n",
    "        if (x != 'nan') and (y != 'nan'):\n",
    "            player_loc[player] = (x,y)\n",
    "            if player in player_nums[team]:\n",
    "                plt.annotate(player_nums[team][player], xy=(x,y))\n",
    "            else:\n",
    "                print('*** Fix Above ***')\n",
    "            fig = plt.gcf()\n",
    "            ax = fig.gca()\n",
    "            #ax.annotate(player, xy=(x,y), xytext=(x,y))\n",
    "            circle = plt.Circle((x,y), 2, color = colours[0], label=player)\n",
    "            circle = plt.Circle((x,y), 1.75, color = colours[1], label=player)\n",
    "            ax.add_artist(circle)\n",
    "    for pair in team_chem:\n",
    "        if (pair[0] in starters) and (pair[1] in starters):\n",
    "            x1 = player_loc[pair[0]][0]\n",
    "            y1 = player_loc[pair[0]][1]\n",
    "            x2 = player_loc[pair[1]][0]\n",
    "            y2 = player_loc[pair[1]][1]\n",
    "            ax.plot((x1,x2),(y1,y2),linewidth=team_chem[pair][0]*300,c=colours[0])\n",
    "    plt.show()"
   ]
  },
  {
   "cell_type": "code",
   "execution_count": 59,
   "metadata": {
    "collapsed": true
   },
   "outputs": [],
   "source": [
    "team_and_colours = {\n",
    " 'Atlanta United':['#80000A', '#221F1F', '#A19060', '#817144'],\n",
    " 'Chicago Fire':['#121F48', '#B3272D', '#909191'],\n",
    " 'Colorado Rapids':['#862633', '#8BB8E8', '#8D9093'],\n",
    " 'Columbus Crew':['#FEF200', '#231F20'],\n",
    " 'DC United':['#EE1A39', '#231F20'],\n",
    " 'FC Dallas':['#D11241', '#003E7E', '#D1D5D8'],\n",
    " 'Houston Dynamo':['#F4911E', '#92C3F1', '#231F20'],\n",
    " 'LA Galaxy':['#0065A4', '#00245D', '#C4C7DC', '#FFD200', '#EEB111', '#8C8B8C', '#B3B2B3', '#231F20'],\n",
    " 'Minnesota United':['#585958', '#D8DAD9', '#231F20', '#DF2426', '#9BCDE4'],\n",
    " 'Montreal Impact':['#2B63AD', '#28477D', '#373536', '#929397', '#BBC3C6'],\n",
    " 'New England Revolution':['#E51938', '#002B5C'],\n",
    " 'New York City FC':['#6CACE4', '#041E42', '#F15524'],\n",
    " 'New York Red Bulls':['#E31351', '#002F65', '#FFC425'],\n",
    " 'Orlando City SC':['#61259E', '#FFE293'],\n",
    " 'Philadelphia Union':['#002D55', '#5090CD', '#B38707', '#B49759'],\n",
    " 'Portland Timbers':['#EAE827', '#004812'],\n",
    " 'Real Salt Lake':['#B30838', '#013A81', '#F5E700'],\n",
    " 'San Jose Earthquakes':['#1F1F1F', '#30457A', '#A42A35'],\n",
    " 'Seattle Sounders FC':['#236192', '#658D1B', '#1D252D'],\n",
    " 'Sporting Kansas City':['#93B1D7', '#002A5C', '#A0A1A5'],\n",
    " 'Toronto FC':['#AB1E2D', '#3F4743', '#A3AAAD'],\n",
    " 'Vancouver Whitecaps FC':['#04265C', '#94C2E4', '#84868C']\n",
    "}\n"
   ]
  },
  {
   "cell_type": "code",
   "execution_count": 64,
   "metadata": {
    "collapsed": true
   },
   "outputs": [],
   "source": [
    "def plotTeam(team_name):\n",
    "    global team_and_colours\n",
    "    colours = team_and_colours[team]\n",
    "    teamChemistryPlot(team,colours,teams[team])"
   ]
  }
 ],
 "metadata": {
  "kernelspec": {
   "display_name": "Python 3",
   "language": "python",
   "name": "python3"
  },
  "language_info": {
   "codemirror_mode": {
    "name": "ipython",
    "version": 3
   },
   "file_extension": ".py",
   "mimetype": "text/x-python",
   "name": "python",
   "nbconvert_exporter": "python",
   "pygments_lexer": "ipython3",
   "version": "3.7.1"
  }
 },
 "nbformat": 4,
 "nbformat_minor": 2
}
